{
 "metadata": {
  "language_info": {
   "codemirror_mode": {
    "name": "ipython",
    "version": 3
   },
   "file_extension": ".py",
   "mimetype": "text/x-python",
   "name": "python",
   "nbconvert_exporter": "python",
   "pygments_lexer": "ipython3",
   "version": "3.8.5"
  },
  "orig_nbformat": 2,
  "kernelspec": {
   "name": "python385jvsc74a57bd0c6c8430e89a15a4f705a576eccecf88c53706536bbd7637c0db045d1215ec196",
   "display_name": "Python 3.8.5 64-bit (conda)"
  }
 },
 "nbformat": 4,
 "nbformat_minor": 2,
 "cells": [
  {
   "cell_type": "code",
   "execution_count": null,
   "metadata": {},
   "outputs": [],
   "source": [
    "#usado para descobrir a posição da letra\n",
    "alfabeto_latino = \"abcdefghijklmnopqrstuvwxyz\"\n",
    "\n",
    "criptografia = str(input(\"Entre com uma sequencia de 26 caracteres para a criptografia: \\n-> \")).lower()\n",
    "\n",
    "if 26 != len(criptografia) or not criptografia.isalpha():\n",
    "    pass\n",
    "else:\n",
    "    palavra = input(\"Informe a palavra codificada: \")\n",
    "    print(*[ criptografia[alfabeto_latino.index(letra)] for letra in palavra ], sep = \"\")\n"
   ]
  },
  {
   "cell_type": "code",
   "execution_count": null,
   "metadata": {},
   "outputs": [],
   "source": [
    "def eh_bomba(novo_campo, x, y):\n",
    "    if '-' != novo_campo[x][y] and '*' != novo_campo[x][y]:\n",
    "        novo_campo[x][y] += 1\n",
    "    else:\n",
    "        novo_campo[x][y] = 1\n",
    "\n",
    "    return novo_campo"
   ]
  },
  {
   "cell_type": "code",
   "execution_count": null,
   "metadata": {},
   "outputs": [],
   "source": [
    "linhas = int(input(\"Informe o número de linhas: \"))\n",
    "colunas = int(input(\"Informe o número de colunas: \"))\n",
    "\n",
    "print(\"Informe as posições!\\nUse '*' (asterisco) para indicar as minas!\\nUse '-' (hífen) para indicar as casas vazias!\")\n",
    "for linha in range(1, linhas + 1):\n",
    "    str_linha = str(input(f\"Informe as {colunas} casas da {linha}° linha: \"))\n",
    "    campo_minado.append(str_linha)\n",
    "\n",
    "novo_campo = [ list(linha) for linha in campo_minado ]\n",
    "for i_linha, linha in enumerate(campo_minado):\n",
    "    if \"*\" in linha:\n",
    "        \n",
    "        bomba = linha.index(\"*\")\n",
    "        antes_bomba = bomba - 1\n",
    "        depois_bomba = bomba + 1\n",
    "\n",
    "        if 0 < antes_bomba:\n",
    "            novo_campo = eh_bomba(novo_campo, i_linha, antes_bomba)\n",
    "            \n",
    "        if depois_bomba < len(novo_campo[i_linha]):\n",
    "            novo_campo = eh_bomba(novo_campo, i_linha, depois_bomba)\n",
    "\n",
    "        if 0 < i_linha:\n",
    "            novo_campo = eh_bomba(novo_campo, i_linha - 1, bomba)\n",
    "        \n",
    "        if i_linha < len(campo_minado) - 1:\n",
    "            novo_campo = eh_bomba(novo_campo, i_linha + 1, bomba)\n",
    "\n",
    "[ print(*linha) for linha in novo_campo ]\n"
   ]
  }
 ]
}