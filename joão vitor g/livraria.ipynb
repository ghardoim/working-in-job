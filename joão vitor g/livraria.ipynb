{
 "cells": [
  {
   "cell_type": "markdown",
   "metadata": {},
   "source": [
    "# Livraria"
   ]
  },
  {
   "cell_type": "code",
   "execution_count": null,
   "metadata": {},
   "outputs": [],
   "source": [
    "from os.path import exists\n",
    "from json import loads"
   ]
  },
  {
   "cell_type": "code",
   "execution_count": null,
   "metadata": {},
   "outputs": [],
   "source": [
    "txt_estoque = \"estoque.txt\"\n",
    "EstoqueLivros = []\n",
    "if exists(txt_estoque):\n",
    "  with open(txt_estoque, \"r\") as arquivo_estoque:\n",
    "    EstoqueLivros = [ loads(livro.strip(\"\\n\").replace(\"'\",\"\\\"\")) for livro in arquivo_estoque.readlines() ]\n",
    "\n",
    "txt_saldo = \"saldo.txt\"\n",
    "Saldo = 0\n",
    "if exists(txt_saldo):\n",
    "  with open(txt_saldo, \"r\") as arquivo_saldo:\n",
    "    Saldo = float(arquivo_saldo.readline())"
   ]
  },
  {
   "cell_type": "code",
   "execution_count": null,
   "metadata": {},
   "outputs": [],
   "source": [
    "def cadastra_livro(titulo, valor, isbn, quantidade_estoque):\n",
    "  for livro in EstoqueLivros:\n",
    "    if isbn == livro[\"ISBN\"]:\n",
    "      livro[\"QuantidadeEstoque\"] += quantidade_estoque\n",
    "      return\n",
    "  novo_livro = {}       \n",
    "  novo_livro[\"Titulo\"] = titulo\n",
    "  novo_livro[\"ISBN\"] = isbn\n",
    "  novo_livro[\"Valor\"] = valor\n",
    "  novo_livro[\"QuantidadeEstoque\"] = quantidade_estoque\n",
    "  EstoqueLivros.append(novo_livro)"
   ]
  },
  {
   "cell_type": "code",
   "execution_count": null,
   "metadata": {},
   "outputs": [],
   "source": [
    "def consulta_estoque_titulo(titulo):\n",
    "  for livro in EstoqueLivros:\n",
    "    if titulo == livro[\"Titulo\"]:\n",
    "      print(r\"O livro foi encontrado em estoque!\")\n",
    "      print(f\"Titulo: {livro['Titulo']}\\nISBN: {livro['ISBN']}\\nValor: {livro['Valor']}\\nQuantidade em Estoque: {livro['QuantidadeEstoque']}\")\n",
    "      return\n",
    "  print(f\"O livro {titulo} não foi encontrado em estoque\")"
   ]
  },
  {
   "cell_type": "code",
   "execution_count": null,
   "metadata": {},
   "outputs": [],
   "source": [
    "def consulta_estoque_ISBN(isbn):\n",
    "  for livro in EstoqueLivros:\n",
    "    if isbn == livro[\"ISBN\"]:\n",
    "      print(r\"O livro foi encontrado em estoque!\")\n",
    "      print(f\"Titulo: {livro['Titulo']}\\nISBN: {livro['ISBN']}\\nValor: {livro['Valor']}\\nQuantidade em Estoque: {livro['QuantidadeEstoque']}\")\n",
    "      return\n",
    "  print(f\"O livro de ISBN {isbn} não foi encontrado em estoque\")"
   ]
  },
  {
   "cell_type": "code",
   "execution_count": null,
   "metadata": {},
   "outputs": [],
   "source": [
    "def vender_livro(isbn, quantidade):\n",
    "  total = 0.0\n",
    "  for livro in EstoqueLivros:\n",
    "    if isbn == livro[\"ISBN\"]:\n",
    "      if livro[\"QuantidadeEstoque\"] - quantidade >= 0:\n",
    "        livro[\"QuantidadeEstoque\"] -= quantidade\n",
    "        total += livro[\"Valor\"] * quantidade\n",
    "        print(f\"Foram vendidos {quantidade} livros do IBSN {isbn}\")\n",
    "        \n",
    "      else:\n",
    "        print(f\"O livro de IBSN {isbn} está em falta no estoque para a quantidade desejada!\")\n",
    "      return total\n",
    "\n",
    "  print(f\"O livro de ISBN {isbn} não foi encontrado para ser vendido!\")"
   ]
  },
  {
   "cell_type": "code",
   "execution_count": null,
   "metadata": {},
   "outputs": [],
   "source": [
    "def consular_saldo():\n",
    "  print(f\"O saldo atual é de R${Saldo}\")"
   ]
  },
  {
   "cell_type": "code",
   "execution_count": null,
   "metadata": {},
   "outputs": [],
   "source": [
    "def salvar_dados():\n",
    "  with open(txt_estoque, \"w\") as arquivo_estoque:\n",
    "    for livro in EstoqueLivros:\n",
    "      arquivo_estoque.write(f\"{livro}\\n\")\n",
    "  \n",
    "  with open(txt_saldo, \"w\") as arquivo_saldo:\n",
    "      arquivo_saldo.write(f\"{Saldo}\")"
   ]
  },
  {
   "cell_type": "code",
   "execution_count": null,
   "metadata": {},
   "outputs": [],
   "source": [
    "if \"__main__\" == __name__:\n",
    "  while True:\n",
    "    try:\n",
    "      opcao = int(input(\"\"\"\n",
    "        MENU PRINCIPAL\n",
    "        1. Cadastrar Livro\n",
    "        2. Consultar Estoque (Buscar Por Título)\n",
    "        3. Consultar Estoque (Buscar Por ISBN)\n",
    "        4. Vender Livro\n",
    "        5. Consultar Saldo da Loja\n",
    "        6. Salvar Dados\n",
    "        \n",
    "        9. Sair\n",
    "        \n",
    "      : \"\"\"))\n",
    "    except ValueError:\n",
    "      print(\"Informe uma opção válida!\")\n",
    "      continue\n",
    "    \n",
    "    if 1 == opcao:\n",
    "      titulo = input(\"Digite o título do livro: \")\n",
    "      isbn = int(input(\"Digite o ISBN do livro: \"))\n",
    "      valor = float(input(\"Digite o valor do livro: \"))\n",
    "      qnt_estoque = int(input(\"Digite a quantidade de livros: \"))\n",
    "      cadastra_livro(titulo, valor, isbn, qnt_estoque)\n",
    "\n",
    "    elif 2 == opcao:\n",
    "      titulo = input(\"Digite o título do livro que deseja procurar: \")\n",
    "      consulta_estoque_titulo(titulo)\n",
    "      \n",
    "    elif 3 == opcao:\n",
    "      isbn = int(input(\"Digite o ISBN do livro que deseja procurar: \"))\n",
    "      consulta_estoque_ISBN(isbn)\n",
    "\n",
    "    elif 4 == opcao:\n",
    "      isbn = int(input(\"Digite o ISBN do livro que deseja vender: \"))\n",
    "      quantidade = int(input(\"Digite a quantidade de livros que deseja vender: \"))\n",
    "      Saldo += vender_livro(isbn, quantidade)\n",
    "    \n",
    "    elif 5 == opcao:\n",
    "      consular_saldo()\n",
    "\n",
    "    elif 6 == opcao:\n",
    "      salvar_dados()\n",
    "\n",
    "    elif 9 == opcao:\n",
    "      print(\"Encerrando!\")\n",
    "      break\n",
    "    "
   ]
  }
 ],
 "metadata": {
  "kernelspec": {
   "display_name": "Python 3",
   "language": "python",
   "name": "python3"
  },
  "language_info": {
   "codemirror_mode": {
    "name": "ipython",
    "version": 3
   },
   "file_extension": ".py",
   "mimetype": "text/x-python",
   "name": "python",
   "nbconvert_exporter": "python",
   "pygments_lexer": "ipython3",
   "version": "3.8.5"
  }
 },
 "nbformat": 4,
 "nbformat_minor": 4
}