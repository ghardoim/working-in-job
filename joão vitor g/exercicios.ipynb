{
 "metadata": {
  "language_info": {
   "codemirror_mode": {
    "name": "ipython",
    "version": 3
   },
   "file_extension": ".py",
   "mimetype": "text/x-python",
   "name": "python",
   "nbconvert_exporter": "python",
   "pygments_lexer": "ipython3",
   "version": "3.8.5"
  },
  "orig_nbformat": 2,
  "kernelspec": {
   "name": "python385jvsc74a57bd0c6c8430e89a15a4f705a576eccecf88c53706536bbd7637c0db045d1215ec196",
   "display_name": "Python 3.8.5 64-bit ('base': conda)"
  }
 },
 "nbformat": 4,
 "nbformat_minor": 2,
 "cells": [
  {
   "cell_type": "code",
   "execution_count": null,
   "metadata": {},
   "outputs": [],
   "source": [
    "import time\n",
    "from random import choice\n",
    "from random import sample"
   ]
  },
  {
   "cell_type": "code",
   "execution_count": null,
   "metadata": {},
   "outputs": [],
   "source": [
    "conta = { \n",
    "    \"saldo\": 0,\n",
    "    \"transacoes\": 0,\n",
    "    \"media\": 0\n",
    "}\n",
    "\n",
    "def compra(conta, valor):\n",
    "\n",
    "    conta[\"saldo\"] -= valor\n",
    "    conta[\"transacoes\"] += 1\n",
    "    conta[\"media\"] = abs(conta[\"saldo\"] / conta[\"transacoes\"])\n",
    "\n",
    "    return conta\n",
    "\n",
    "for n in range(int(input(\"Quantas compras deseja fazer? \"))):\n",
    "    conta = compra(conta, float(input(f\"Qual o valor da {n + 1}° compra?\")))\n",
    "\n",
    "print(f'O seu saldo agora é de R${conta[\"saldo\"]} pois foram realizadas {conta[\"transacoes\"]} transações numa média de R${conta[\"media\"]}')\n",
    "time.sleep(5)"
   ]
  },
  {
   "cell_type": "code",
   "execution_count": null,
   "metadata": {},
   "outputs": [],
   "source": [
    "def valor(polinomio, valor):\n",
    "    vPolinomio = 0\n",
    "    graus = [ grau for grau in range(len(polinomio) - 1, 0, -1) ]\n",
    "\n",
    "    for grau in graus:\n",
    "        coeficiente = int(polinomio[graus.index(grau)])\n",
    "\n",
    "        if 0 != coeficiente:\n",
    "            vPolinomio += coeficiente * (valor ** grau)\n",
    "\n",
    "    vPolinomio += int(polinomio[len(polinomio) - 1])\n",
    "    return vPolinomio\n",
    "\n",
    "print(valor(list(input(\"Informe os coeficientes separados por vírgula: \").split(\",\")), int(input(\"Informe o valor de X: \"))))\n",
    "time.sleep(5)"
   ]
  },
  {
   "cell_type": "code",
   "execution_count": null,
   "metadata": {},
   "outputs": [],
   "source": [
    "def derivada(polinomio):\n",
    "    derivada = []\n",
    "    graus = [ grau for grau in range(len(polinomio) - 1, 0, -1) ]\n",
    "\n",
    "    for grau in graus:\n",
    "        coeficiente = int(polinomio[graus.index(grau)])\n",
    "        derivada.append(coeficiente * grau)\n",
    "\n",
    "    return derivada\n",
    "\n",
    "print(derivada(list(input(\"Informe os coeficientes separados por vírgula: \").split(\",\"))))\n",
    "time.sleep(5)"
   ]
  },
  {
   "cell_type": "code",
   "execution_count": null,
   "metadata": {},
   "outputs": [],
   "source": [
    "def somapoli(lista):\n",
    "    soma = dict.fromkeys([ grau for grau in range(len(max(lista)) - 1, 0, -1) ], 0)\n",
    "\n",
    "    for polinomio in lista:\n",
    "        graus = [ grau for grau in range(len(polinomio) - 1, 0, -1) ]\n",
    "\n",
    "        for grau in graus:\n",
    "            soma[grau] += int(polinomio[graus.index(grau)])\n",
    "\n",
    "    novo_polinomio = []\n",
    "    for key, value in soma.items():\n",
    "        novo_polinomio.append(value)\n",
    "\n",
    "    return novo_polinomio\n",
    "\n",
    "coeficientes = []\n",
    "for i in range(int(input(\"Informe quantos polinomios deseja somar: \"))):\n",
    "    coeficientes.append(list(input(f\"Informe os coeficientes do {i + 1}° polinomio separados por vírgula: \").split(\",\")))\n",
    "\n",
    "print(somapoli(coeficientes))\n",
    "time.sleep(5)"
   ]
  },
  {
   "cell_type": "code",
   "execution_count": null,
   "metadata": {},
   "outputs": [],
   "source": [
    "with open(\"palavras.txt\", \"r\") as arquivo:\n",
    "    palavra = str(choice([ linha.rstrip() for linha in arquivo.readlines() ]))\n",
    "    print(f\"Você tem 6 tentativas para adivinhar a palavra: {''.join(sample(palavra, len(palavra)))}\")\n",
    "\n",
    "    acertou = False\n",
    "    for tentativa in range(6):\n",
    "\n",
    "        if str(input(f\"Seu {tentativa + 1}° chute: \")) == palavra:\n",
    "            acertou = True\n",
    "            break\n",
    "\n",
    "    if acertou:\n",
    "        print(f\"Parabéns! Você acertou a palavra: {palavra}\")\n",
    "    else:\n",
    "        print(f\"Você errou a palavra: {palavra}\")\n",
    "\n",
    "time.sleep(5)"
   ]
  }
 ]
}