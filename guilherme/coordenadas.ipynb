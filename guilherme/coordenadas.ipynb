{
 "cells": [
  {
   "cell_type": "markdown",
   "metadata": {},
   "source": [
    "- Import das bibliotecas utilizadas (pandas, openpyxl, geopy)\n",
    "- Caso alguma delas esteja faltando use o comando: `pip install nome_lib`"
   ]
  },
  {
   "cell_type": "code",
   "execution_count": null,
   "metadata": {},
   "outputs": [],
   "source": [
    "from geopy.extra.rate_limiter import RateLimiter\n",
    "from tkinter.filedialog import askopenfilename\n",
    "from geopy.geocoders import Nominatim\n",
    "import pandas as pd"
   ]
  },
  {
   "cell_type": "markdown",
   "metadata": {},
   "source": [
    "- Lendo a base de dados\n",
    "- Aqui você pode fazer de várias maneiras, importante é gerar um DataFrame com as colunas que serão trabalhadas\n",
    "    - Aqui estou pedindo ao usuário que escolha o arquivo excel com as informações"
   ]
  },
  {
   "cell_type": "code",
   "execution_count": null,
   "metadata": {},
   "outputs": [],
   "source": [
    "df = pd.read_excel(askopenfilename()).fillna(\"\")"
   ]
  },
  {
   "cell_type": "markdown",
   "metadata": {},
   "source": [
    "- Achei por bem fazer os seguintes tratamentos:\n",
    "    - 1°: Uma nova coluna com o nome da rua apenas pra usar como chave primária\n",
    "    - 2°: Gerar um novo DataFrame para ter liberdade com os dados\n",
    "    - 3°: Criar uma coluna com o endereço completo de forma mais limpa (sem espaços em branco e vírgulas desnecessárias)\n",
    "    - 4°: Reduzir a base, removendo duplicadas, antes de realizar a consulta."
   ]
  },
  {
   "cell_type": "code",
   "execution_count": null,
   "metadata": {},
   "outputs": [],
   "source": [
    "df[\"nome_rua\"] = df.Endereço.apply(lambda e: e.split(\",\")[0].strip())\n",
    "\n",
    "new_df = pd.DataFrame(df[[\"nome_rua\", \"Bairro\", \"Cidade\", \"Estado\"]])\n",
    "\n",
    "new_df[\"full_address\"] = new_df.apply(lambda row: \", \".join(filter(None, [row[\"Bairro\"], row[\"Cidade\"], row[\"Estado\"]])).strip(), axis=1)\n",
    "\n",
    "new_df.drop_duplicates(\"full_address\", inplace=True)"
   ]
  },
  {
   "cell_type": "markdown",
   "metadata": {},
   "source": [
    "- Aqui a mágica acontece: crio o geo localizador e aplico ele na coluna com o endereço completo que criei antes\n",
    "- Depois separo o resultado em novas colunas"
   ]
  },
  {
   "cell_type": "code",
   "execution_count": null,
   "metadata": {},
   "outputs": [],
   "source": [
    "geolocator = RateLimiter(Nominatim(user_agent=\"deskrobot\").geocode, min_delay_seconds=1)\n",
    "new_df[\"location\"] = new_df[\"full_address\"].apply(geolocator)\n",
    "\n",
    "new_df[\"latitude\"] = new_df[\"location\"].apply(lambda loc: loc.point.latitude if loc else None)\n",
    "new_df[\"longitude\"] = new_df[\"location\"].apply(lambda loc: loc.point.longitude if loc else None)"
   ]
  },
  {
   "cell_type": "markdown",
   "metadata": {},
   "source": [
    "- Uno as duas bases com os dados tratados e salvo em um novo arquivo excel."
   ]
  },
  {
   "cell_type": "code",
   "execution_count": null,
   "metadata": {},
   "outputs": [],
   "source": [
    "df_full_address = df.merge(new_df[[\"nome_rua\", \"location\", \"latitude\", \"longitude\", \"full_address\"]], on=\"nome_rua\")\n",
    "df_full_address.drop(\"endereco_maps\", axis=1).fillna(\"\").to_excel(\"coordenadas.xlsx\", index=False)"
   ]
  }
 ],
 "metadata": {
  "kernelspec": {
   "display_name": "Python 3.10.4 64-bit",
   "language": "python",
   "name": "python3"
  },
  "language_info": {
   "codemirror_mode": {
    "name": "ipython",
    "version": 3
   },
   "file_extension": ".py",
   "mimetype": "text/x-python",
   "name": "python",
   "nbconvert_exporter": "python",
   "pygments_lexer": "ipython3",
   "version": "3.10.4"
  },
  "orig_nbformat": 4,
  "vscode": {
   "interpreter": {
    "hash": "47d59cec4c0883e0b373985bd923f149eff67b35653e9bb78b95a50e49db9672"
   }
  }
 },
 "nbformat": 4,
 "nbformat_minor": 2
}
