{
 "cells": [
  {
   "cell_type": "code",
   "execution_count": null,
   "metadata": {},
   "outputs": [],
   "source": [
    "from requests.auth import HTTPBasicAuth\n",
    "from datetime import datetime as dt\n",
    "import requests as rq\n",
    "import pandas as pd"
   ]
  },
  {
   "cell_type": "code",
   "execution_count": null,
   "metadata": {},
   "outputs": [],
   "source": [
    "auth = HTTPBasicAuth(\"\", \"\")\n",
    "today = dt.now().strftime(r\"%Y-%m-%d\")"
   ]
  },
  {
   "cell_type": "code",
   "execution_count": null,
   "metadata": {},
   "outputs": [],
   "source": [
    "def generate_df(resp) -> pd.DataFrame:\n",
    "    return pd.DataFrame(resp.json()[\"data\"])\n",
    "\n",
    "def fetch_data(endpoint:str, params:dict):\n",
    "    return generate_df(rq.get(f\"https://api.sienge.com.br/bfabbriani/public/api/bulk-data/v1/{endpoint}\", auth=auth, params=params))"
   ]
  },
  {
   "cell_type": "code",
   "execution_count": null,
   "metadata": {},
   "outputs": [],
   "source": [
    "extract_history = fetch_data(\"customer-extract-history\", {\"startDueDate\":\"2000-01-01\", \"endDueDate\":today})"
   ]
  },
  {
   "cell_type": "code",
   "execution_count": null,
   "metadata": {},
   "outputs": [],
   "source": [
    "income = fetch_data(\"income\", quota_parms := {\"startDate\":\"2018-01-01\", \"endDate\":today, \"selectionType\":\"D\"})\n",
    "outcome = fetch_data(\"outcome\", {**quota_parms, \"correctionDate\":today, \"correctionIndexerId\":1})"
   ]
  },
  {
   "cell_type": "code",
   "execution_count": null,
   "metadata": {},
   "outputs": [],
   "source": [
    "accounts_balances = rq.get(\"https://api.sienge.com.br/bfabbriani/public/api/v1/accounts-balances\", auth=auth,\n",
    "    params={\"balanceDate\":today, \"limit\":300, \"showLastBalanceIfNotExistBalance\":\"S\"})\n",
    "accounts_balances = pd.DataFrame(accounts_balances.json()[\"results\"])"
   ]
  }
 ],
 "metadata": {
  "kernelspec": {
   "display_name": ".venv",
   "language": "python",
   "name": "python3"
  },
  "language_info": {
   "codemirror_mode": {
    "name": "ipython",
    "version": 3
   },
   "file_extension": ".py",
   "mimetype": "text/x-python",
   "name": "python",
   "nbconvert_exporter": "python",
   "pygments_lexer": "ipython3",
   "version": "3.12.6"
  }
 },
 "nbformat": 4,
 "nbformat_minor": 2
}
