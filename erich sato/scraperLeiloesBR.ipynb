{
 "metadata": {
  "language_info": {
   "codemirror_mode": {
    "name": "ipython",
    "version": 3
   },
   "file_extension": ".py",
   "mimetype": "text/x-python",
   "name": "python",
   "nbconvert_exporter": "python",
   "pygments_lexer": "ipython3",
   "version": "3.8.5"
  },
  "orig_nbformat": 2,
  "kernelspec": {
   "name": "python385jvsc74a57bd0c6c8430e89a15a4f705a576eccecf88c53706536bbd7637c0db045d1215ec196",
   "display_name": "Python 3.8.5 64-bit ('base': conda)"
  }
 },
 "nbformat": 4,
 "nbformat_minor": 2,
 "cells": [
  {
   "cell_type": "code",
   "execution_count": null,
   "metadata": {},
   "outputs": [],
   "source": [
    "import requests as req\n",
    "from bs4 import BeautifulSoup\n",
    "from datetime import datetime as dt\n",
    "from twilio.rest import Client\n",
    "import pandas as pd"
   ]
  },
  {
   "cell_type": "code",
   "execution_count": null,
   "metadata": {},
   "outputs": [],
   "source": [
    "account_sid = \"\"\n",
    "auth_token = \"\"\n",
    "client = Client(account_sid, auth_token)"
   ]
  },
  {
   "cell_type": "code",
   "execution_count": null,
   "metadata": {},
   "outputs": [],
   "source": [
    "lbr_mainURL = \"https://www.leiloesbr.com.br/\"\n",
    "search_terms = []"
   ]
  },
  {
   "cell_type": "code",
   "execution_count": null,
   "metadata": {},
   "outputs": [],
   "source": [
    "def extract_infos(search_terms):\n",
    "    infos = []\n",
    "    for term in search_terms:\n",
    "\n",
    "        nPage = 1\n",
    "        while True:\n",
    "            html = BeautifulSoup(req.get(f\"{lbr_mainURL}busca.asp?v=126&op=2&pesquisa={term}&pag={nPage}\").text, 'html.parser')\n",
    "            \n",
    "            for i, item in enumerate(html.find_all(\"div\", class_ = \"col-xs-12 col-sm-4 col-md-4\")):\n",
    "                lbr_info = {}\n",
    "\n",
    "                tagA = item.find(\"a\", attrs = { \"data-ref\": i})            \n",
    "                img_url = tagA[\"data-zoom-image\"]\n",
    "                lbr_info[\"url_image\"] = img_url\n",
    "                \n",
    "                lbr_info[\"id\"] = img_url.split('/')[6].split('.')[0]\n",
    "                lbr_info[\"post_url\"] = lbr_mainURL + tagA[\"href\"]\n",
    "                \n",
    "                lbr_info[\"title\"] = item.find(\"div\", class_ = \"item-title\").a[\"data-original-title\"]\n",
    "\n",
    "                lbr_info[\"search_term\"] = term\n",
    "                lbr_info[\"channel\"] = \"leilõesBR\"\n",
    "                lbr_info[\"scrape_date\"] = dt.now().strftime(r\"%Y-%m-%d\")\n",
    "                lbr_info[\"scrape_timestamp\"] = dt.now().strftime(r\"%H:%M:%S\")\n",
    "                lbr_info[\"full_info\"] = item\n",
    "\n",
    "                # item.find(\"span\", class_ = \"pesq-uf\").parent.text.split(\" - \")[0] # prazo? vencimento?\n",
    "                lbr_info[\"upload_date\"] = \"\"\n",
    "                lbr_info[\"upload_timestamp\"] = \"\"\n",
    "\n",
    "                lbr_info[\"price\"] = int(item.find(\"div\", class_ = \"item-price\").h4.text.replace(\"R$ \", \"\").replace(\",00\", \"\").replace(\".\", \"\"))\n",
    "                infos.append(lbr_info)\n",
    "\n",
    "            nPage += 1\n",
    "\n",
    "            rButton = html.find(class_ = \"fa fa-chevron-right\")\n",
    "            hasNext = False if \"a\" != rButton.parent.name or rButton.has_attr(\"aria-hidden\") else True\n",
    "            if not hasNext:\n",
    "                break\n",
    "    return infos"
   ]
  },
  {
   "cell_type": "code",
   "execution_count": null,
   "metadata": {},
   "outputs": [],
   "source": [
    "scraped_data = extract_infos(search_terms)"
   ]
  },
  {
   "cell_type": "code",
   "execution_count": null,
   "metadata": {},
   "outputs": [],
   "source": [
    "old_data = pd.read_excel(\"data/scraped_data_leiloesBR.xlsx\")\n",
    "old_ids = set([ int(_id) for _id in old_data[\"id\"]])\n",
    "\n",
    "ids = [ int(item[\"id\"]) for item in scraped_data ]\n",
    "new_ids = [ _id for _id in ids if _id not in old_ids ]\n",
    "\n",
    "print(new_ids)\n",
    "if new_ids:\n",
    "    scraped_data = [ data for data in scraped_data if int(data[\"id\"]) in new_ids ]\n",
    "\n",
    "    new_data = old_data.append(scraped_data)\n",
    "    new_data.to_excel(\"data/scraped_data_leiloesBR.xlsx\", index = False)\n",
    "    \n",
    "    for new_item in scraped_data:\n",
    "        msg_text = f\"Tem item novo no LeilõesBR!\\n{new_item['title']}\\n{new_item['post_url']}\"\n",
    "        message = client.messages.create(\n",
    "                                    body = msg_text,\n",
    "                                    from_ = 'whatsapp:+',\n",
    "                                    to = 'whatsapp:+',\n",
    "                                    media_url = f\"{new_item['url_image']}\"\n",
    "                                )\n",
    "        print(f\"{message.sid}  -  {message.error_code}\")"
   ]
  }
 ]
}