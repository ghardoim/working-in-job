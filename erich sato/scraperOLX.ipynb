{
 "metadata": {
  "language_info": {
   "codemirror_mode": {
    "name": "ipython",
    "version": 3
   },
   "file_extension": ".py",
   "mimetype": "text/x-python",
   "name": "python",
   "nbconvert_exporter": "python",
   "pygments_lexer": "ipython3",
   "version": "3.8.5"
  },
  "orig_nbformat": 2,
  "kernelspec": {
   "name": "python385jvsc74a57bd0c6c8430e89a15a4f705a576eccecf88c53706536bbd7637c0db045d1215ec196",
   "display_name": "Python 3.8.5 64-bit (conda)"
  }
 },
 "nbformat": 4,
 "nbformat_minor": 2,
 "cells": [
  {
   "cell_type": "code",
   "execution_count": null,
   "metadata": {},
   "outputs": [],
   "source": [
    "import requests\n",
    "import pandas as pd\n",
    "from bs4 import BeautifulSoup\n",
    "from twilio.rest import Client\n",
    "from datetime import timedelta, datetime as dt"
   ]
  },
  {
   "cell_type": "code",
   "execution_count": null,
   "metadata": {},
   "outputs": [],
   "source": [
    "header = {'User-Agent': 'Mozilla/5.0 (X11; Linux x86_64) AppleWebKit/537.36 (KHTML, like Gecko) Chrome/83.0.4103.106 Safari/537.36'}\n",
    "\n",
    "search_terms = []\n",
    "\n",
    "account_sid = \"\"\n",
    "auth_token = \"\"\n",
    "client = Client(account_sid, auth_token)"
   ]
  },
  {
   "cell_type": "code",
   "execution_count": null,
   "metadata": {},
   "outputs": [],
   "source": [
    "def request_get(term, n_page):\n",
    "    return requests.get(f\"http://www.olx.com.br/brasil?o={n_page}&q={term}\", headers = header)"
   ]
  },
  {
   "cell_type": "code",
   "execution_count": null,
   "metadata": {},
   "outputs": [],
   "source": [
    "def has_next_button(response):\n",
    "    return BeautifulSoup(response.text, 'html.parser').find(name = \"a\", attrs = { \"data-lurker-detail\": \"forward_button\" })"
   ]
  },
  {
   "cell_type": "code",
   "execution_count": null,
   "metadata": {},
   "outputs": [],
   "source": [
    "def extracted_date(day):\n",
    "    if \"Ontem\" == day:\n",
    "        day = (dt.now() - timedelta(days = 1))\n",
    "    elif \"Hoje\" == day:\n",
    "        day = dt.now()\n",
    "    else:\n",
    "        day = dt.strptime(f\"{day}/{dt.now().year}\", r\"%d/%m/%Y\")\n",
    "    return day.strftime(r\"%Y-%m-%d\")"
   ]
  },
  {
   "cell_type": "code",
   "execution_count": null,
   "metadata": {},
   "outputs": [],
   "source": [
    "def format_price(price):\n",
    "    return int(price.get_text().split(\"R$ \")[1].replace(\".\", \"\"))"
   ]
  },
  {
   "cell_type": "code",
   "execution_count": null,
   "metadata": {},
   "outputs": [],
   "source": [
    "def extract_infos(search_terms):\n",
    "    infos = []\n",
    "    for term in search_terms:\n",
    "        n_page = 1    \n",
    "        while has_next_button(request_get(term, n_page)):\n",
    "            print(f'{term} / pagina {n_page}')\n",
    "\n",
    "            response = request_get(term, n_page)\n",
    "            soup_data = BeautifulSoup(response.text, 'html.parser')\n",
    "\n",
    "            for item in soup_data.find_all(name = \"a\", attrs = { \"data-lurker-detail\": \"list_id\" }):\n",
    "                olx_info = {}\n",
    "\n",
    "                olx_info[\"id\"] = item[\"data-lurker_list_id\"]\n",
    "                olx_info[\"post_url\"] = item[\"href\"]\n",
    "                olx_info[\"url_image\"] = item.find(name = \"img\")[\"src\"]\n",
    "                olx_info[\"title\"] = item[\"title\"]\n",
    "                olx_info[\"search_term\"] = term\n",
    "                olx_info[\"channel\"] = \"olx\"\n",
    "                olx_info[\"scrape_date\"] = dt.now().strftime(r\"%Y-%m-%d\")\n",
    "                olx_info[\"scrape_timestamp\"] = dt.now().strftime(r\"%H:%M:%S\")\n",
    "                olx_info[\"full_info\"] = item.parent\n",
    "\n",
    "                full_date = item.div.find(name = \"p\", class_ = \"sc-1iuc9a2-4 hDBjae sc-ifAKCX fWUyFm\")\n",
    "                if full_date is not None:\n",
    "                    full_date = full_date.text.split(\" \")\n",
    "                    olx_info[\"upload_date\"] = extracted_date(full_date[0])\n",
    "                    olx_info[\"upload_timestamp\"] = full_date[2]\n",
    "\n",
    "                price = item.find(name = \"p\", class_ = \"sc-ifAKCX eoKYee\")\n",
    "                olx_info[\"price\"] = format_price(price) if price is not None else 0\n",
    "                \n",
    "                infos.append(olx_info)\n",
    "            n_page += 1\n",
    "    return infos"
   ]
  },
  {
   "cell_type": "code",
   "execution_count": null,
   "metadata": {
    "tags": []
   },
   "outputs": [],
   "source": [
    "scraped_data = extract_infos(search_terms)"
   ]
  },
  {
   "cell_type": "code",
   "execution_count": null,
   "metadata": {
    "tags": []
   },
   "outputs": [],
   "source": [
    "old_data = pd.read_excel(\"data/scraped_data_olx.xlsx\")\n",
    "old_ids = set([ int(_id) for _id in old_data[\"id\"]])\n",
    "\n",
    "ids = [ int(item[\"id\"]) for item in scraped_data ]\n",
    "new_ids = [ _id for _id in ids if _id not in old_ids ]\n",
    "\n",
    "print(new_ids)\n",
    "if new_ids:\n",
    "    scraped_data = [ data for data in scraped_data if int(data[\"id\"]) in new_ids ]\n",
    "\n",
    "    new_data = old_data.append(scraped_data)\n",
    "    new_data.to_excel(\"data/scraped_data_olx.xlsx\", index = False)\n",
    "    \n",
    "    for new_item in scraped_data:\n",
    "        msg_text = f\"Tem item novo na OLX!\\n{new_item['title']}\\n{new_item['post_url']}\"\n",
    "        message = client.messages.create(\n",
    "                                    body = msg_text,\n",
    "                                    from_ = 'whatsapp:+',\n",
    "                                    to = 'whatsapp:+',\n",
    "                                    media_url = f\"{new_item['url_image']}\", \n",
    "                                )\n",
    "        print(f\"{message.sid}  -  {message.error_code}\")"
   ]
  }
 ]
}