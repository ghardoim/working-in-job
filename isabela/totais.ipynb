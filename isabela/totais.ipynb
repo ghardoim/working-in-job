{
 "metadata": {
  "language_info": {
   "codemirror_mode": {
    "name": "ipython",
    "version": 3
   },
   "file_extension": ".py",
   "mimetype": "text/x-python",
   "name": "python",
   "nbconvert_exporter": "python",
   "pygments_lexer": "ipython3",
   "version": "3.8.5"
  },
  "orig_nbformat": 2,
  "kernelspec": {
   "name": "python385jvsc74a57bd0c6c8430e89a15a4f705a576eccecf88c53706536bbd7637c0db045d1215ec196",
   "display_name": "Python 3.8.5 64-bit ('base': conda)"
  }
 },
 "nbformat": 4,
 "nbformat_minor": 2,
 "cells": [
  {
   "cell_type": "code",
   "execution_count": null,
   "metadata": {},
   "outputs": [],
   "source": [
    "import pandas as pd"
   ]
  },
  {
   "cell_type": "code",
   "execution_count": null,
   "metadata": {},
   "outputs": [],
   "source": [
    "cases_df = pd.read_csv(\"Brazil.txt\", sep = \"\\t\")\n",
    "\n",
    "cases_df.plot(figsize = (15, 5), title = \"Total de Casos\", x = \"date\", xlabel = \"Data\", y = \"total_cases\", ylabel = \"Total Acumulado\", color = \"orange\")\n",
    "cases_df.plot(figsize = (15, 5), title = \"Total de Mortes\", x = \"date\", xlabel = \"Data\", y = \"total_deaths\", ylabel = \"Total Acumulado\", color = \"red\")"
   ]
  }
 ]
}