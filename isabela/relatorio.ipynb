{
 "metadata": {
  "language_info": {
   "codemirror_mode": {
    "name": "ipython",
    "version": 3
   },
   "file_extension": ".py",
   "mimetype": "text/x-python",
   "name": "python",
   "nbconvert_exporter": "python",
   "pygments_lexer": "ipython3",
   "version": "3.8.5"
  },
  "orig_nbformat": 2,
  "kernelspec": {
   "name": "python385jvsc74a57bd0c6c8430e89a15a4f705a576eccecf88c53706536bbd7637c0db045d1215ec196",
   "display_name": "Python 3.8.5 64-bit (conda)"
  }
 },
 "nbformat": 4,
 "nbformat_minor": 2,
 "cells": [
  {
   "cell_type": "code",
   "execution_count": null,
   "metadata": {},
   "outputs": [],
   "source": [
    "def converte(bytes_usados):\n",
    "    return round(bytes_usados / 1048576, 2)"
   ]
  },
  {
   "cell_type": "code",
   "execution_count": null,
   "metadata": {},
   "outputs": [],
   "source": [
    "def percentual_de_uso(espaco_usado, total):\n",
    "    return round((espaco_usado / total) * 100, 2)"
   ]
  },
  {
   "cell_type": "code",
   "execution_count": null,
   "metadata": {},
   "outputs": [],
   "source": [
    "funcionarios = {}\n",
    "\n",
    "with open(\"funcionarios.txt\", \"r\") as arquivo:    \n",
    "    for linha in arquivo.readlines():\n",
    "        if linha != \"\\n\":\n",
    "\n",
    "            linha = linha.rstrip().split(\" \")\n",
    "            funcionarios[linha[0]] = int(linha[1])"
   ]
  },
  {
   "cell_type": "code",
   "execution_count": null,
   "metadata": {},
   "outputs": [],
   "source": [
    "total_espaco_usado = converte(sum(funcionarios.values()))\n",
    "media_espaco_usado = round(total_espaco_usado / len(funcionarios.keys()), 2)"
   ]
  },
  {
   "cell_type": "code",
   "execution_count": null,
   "metadata": {},
   "outputs": [],
   "source": [
    "with open(\"relatorio.txt\", \"wb\") as arquivo:\n",
    "    arquivo.write(f\"EmpresaX{' ' * 19}Uso do espaço em disco pelos usuários\\n\\n\".encode(\"utf8\"))\n",
    "    arquivo.write(f\"{'-' * 70}\\n\\n\".encode(\"utf8\"))\n",
    "    arquivo.write(f\"Usuário{' ' * 20}Espaço utilizado{' ' * 20}% do uso\\n\\n\".encode(\"utf8\"))\n",
    "\n",
    "    for nome, espaco_utilizado in funcionarios.items():\n",
    "        espaco_em_mb = converte(espaco_utilizado)\n",
    "        percentual = percentual_de_uso(espaco_em_mb, total_espaco_usado)\n",
    "        \n",
    "        arquivo.write(f\"{nome}{' ' * 22}{espaco_em_mb} MB{' ' * 22}{percentual}%\\n\\n\".encode(\"utf8\"))\n",
    "\n",
    "    arquivo.write(f\"Espaço total ocupado: {total_espaco_usado} MB\\n\\n\".encode(\"utf8\"))\n",
    "    arquivo.write(f\"Espaço médio ocupado: {media_espaco_usado} MB\".encode(\"utf8\"))"
   ]
  }
 ]
}