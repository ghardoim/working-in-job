{
 "metadata": {
  "language_info": {
   "codemirror_mode": {
    "name": "ipython",
    "version": 3
   },
   "file_extension": ".py",
   "mimetype": "text/x-python",
   "name": "python",
   "nbconvert_exporter": "python",
   "pygments_lexer": "ipython3",
   "version": "3.8.5"
  },
  "orig_nbformat": 2,
  "kernelspec": {
   "name": "python385jvsc74a57bd0c6c8430e89a15a4f705a576eccecf88c53706536bbd7637c0db045d1215ec196",
   "display_name": "Python 3.8.5 64-bit ('base': conda)"
  }
 },
 "nbformat": 4,
 "nbformat_minor": 2,
 "cells": [
  {
   "cell_type": "code",
   "execution_count": null,
   "metadata": {},
   "outputs": [],
   "source": [
    "import requests as rq\n",
    "import pandas as pd\n",
    "\n",
    "covid_filename = \"owid-covid-data.csv\""
   ]
  },
  {
   "cell_type": "code",
   "execution_count": null,
   "metadata": {},
   "outputs": [],
   "source": [
    "rs = rq.get(\"https://covid.ourworldindata.org/data/owid-covid-data.csv\", allow_redirects = True)\n",
    "open(covid_filename, \"w\").write(rs.content.decode())\n",
    "covid_df = pd.read_csv(covid_filename)\n",
    "covid_df = covid_df.fillna(0)"
   ]
  },
  {
   "cell_type": "code",
   "execution_count": null,
   "metadata": {},
   "outputs": [],
   "source": [
    "def ehValido(numero):\n",
    "    return numero >= 0 and numero < len(paises)"
   ]
  },
  {
   "cell_type": "code",
   "execution_count": null,
   "metadata": {},
   "outputs": [],
   "source": [
    "def getIntervalo(df, inicio, fim):\n",
    "    df = df.loc[ df[\"date\"] >= inicio, : ] if inicio else df\n",
    "    df = df.loc[ df[\"date\"] <= fim, : ] if inicio else df\n",
    "    return df"
   ]
  },
  {
   "cell_type": "code",
   "execution_count": null,
   "metadata": {},
   "outputs": [],
   "source": [
    "def evolucaoDeMortes(pais, inicio = \"\", fim = \"\"):\n",
    "    pais_df = covid_df.loc[covid_df[\"location\"] == pais, [\"date\", \"total_deaths\"]]\n",
    "    pais_df = getIntervalo(pais_df, inicio, fim)\n",
    "    pais_df.plot(figsize = (15, 5), title = f\"{pais} - Evolução de Mortes\", x = \"date\", xlabel = \"Data\", ylabel = \"N° de Mortes\")\n",
    "    pais_df.to_csv(f\"{pais} - Evolução de mortes.csv\", index = False)"
   ]
  },
  {
   "cell_type": "code",
   "execution_count": null,
   "metadata": {},
   "outputs": [],
   "source": [
    "def ranking(continente, pais, inicio = \"\", fim = \"\"):\n",
    "    continente_df = covid_df.loc[covid_df[\"continent\"] == continente, [\"total_deaths\", \"location\", \"date\"]].groupby(\"location\", as_index = False).sum().sort_values(\"total_deaths\", ascending = False).head(10).append(covid_df.loc[covid_df[\"location\"] == pais, [\"total_deaths\", \"location\"]].groupby(\"location\", as_index = False).sum())\n",
    "    \n",
    "    continente_df = getIntervalo(continente_df, inicio, fim)\n",
    "    \n",
    "    titulo = f\"{pais} - Em relação ao Top10 da {continente}\"\n",
    "    continente_df.plot(figsize = (15, 5), kind = \"bar\", x = \"location\", xlabel = \"Paises\", y = \"total_deaths\", ylabel = \"N° de Mortes\", title = titulo)\n",
    "    \n",
    "    continente_df.to_csv(f\"{pais} - Top10 da {continente}.csv\", index = False)"
   ]
  },
  {
   "cell_type": "code",
   "execution_count": null,
   "metadata": {},
   "outputs": [],
   "source": [
    "def correlacao2021(pais, inicio = \"\", fim = \"\"):\n",
    "    pais_df = covid_df.loc[covid_df[\"location\"] == pais, [\"total_vaccinations\", \"total_tests\", \"date\"]]\n",
    "    pais_df = getIntervalo(pais_df, inicio, fim)\n",
    "    pais_df.plot(figsize = (15, 5), x = \"date\", xlabel = \"Data\", ylabel = \"Total\", title = f\"{pais} - Correlação entre testes e vacinas\")\n",
    "    pais_df.to_csv(f\"{pais} - Correlação entre testes e vacinas.csv\", index = False)    "
   ]
  },
  {
   "cell_type": "code",
   "execution_count": null,
   "metadata": {},
   "outputs": [],
   "source": [
    "print(\"-\" * 50)\n",
    "print(\"\\t\\t\\tIsabela\")\n",
    "print(\"-\" * 50)\n",
    "\n",
    "while True:\n",
    "    print(\"-\" * 50)\n",
    "    print(\"-\" * 5, \"Continentes\", \"-\" * 5)\n",
    "\n",
    "    continentes = list(set(covid_df[\"continent\"]))[1:]\n",
    "    for i, continente in enumerate(continentes):\n",
    "        print(i, continente, sep = \" - \")\n",
    "    c = int(input(\"Escolha, pelo número, um continente: \"))\n",
    "    \n",
    "    print(\"-\" * 50)\n",
    "    print(\"-\" * 5, \"Países\", \"-\" * 5)\n",
    "    \n",
    "    paises = list(set(covid_df.loc[covid_df[\"continent\"] == continentes[c], \"location\"]))\n",
    "    for i, pais in enumerate(paises):\n",
    "        print(i, pais, sep = \" - \")\n",
    "    p = int(input(f\"Escolha, pelo número, um país da {continentes[c]}: \"))\n",
    "\n",
    "    print(\"-\" * 50)\n",
    "    \n",
    "    if ehValido(p):\n",
    "        print(\"Qual intervalo de tempo deseja ver?\", \"Deixe em branco para ver todo o período!\", sep = \"\\n\")\n",
    "        inicio = str(input(\"Data de Início (AAAA-MM-DD): \"))\n",
    "        fim = str(input(\"Data de Fim (AAAA-MM-DD): \"))\n",
    "        evolucaoDeMortes(paises[p], inicio, fim)\n",
    "        ranking(continentes[c], paises[p], inicio, fim)\n",
    "        correlacao2021(paises[p], inicio, fim)\n",
    "    if \"S\" == str(input(\"Deseja sair? (S/N)\")).upper() :\n",
    "        break"
   ]
  }
 ]
}