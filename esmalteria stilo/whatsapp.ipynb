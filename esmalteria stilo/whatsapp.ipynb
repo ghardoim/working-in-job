{
 "metadata": {
  "language_info": {
   "codemirror_mode": {
    "name": "ipython",
    "version": 3
   },
   "file_extension": ".py",
   "mimetype": "text/x-python",
   "name": "python",
   "nbconvert_exporter": "python",
   "pygments_lexer": "ipython3",
   "version": "3.8.5"
  },
  "orig_nbformat": 2,
  "kernelspec": {
   "name": "python385jvsc74a57bd0c6c8430e89a15a4f705a576eccecf88c53706536bbd7637c0db045d1215ec196",
   "display_name": "Python 3.8.5 64-bit ('base': conda)"
  }
 },
 "nbformat": 4,
 "nbformat_minor": 2,
 "cells": [
  {
   "cell_type": "code",
   "execution_count": null,
   "metadata": {},
   "outputs": [],
   "source": [
    "import time\n",
    "import urllib\n",
    "import pandas as pd\n",
    "from tkinter import Tk as tk\n",
    "from tkinter import filedialog as fd\n",
    "from tkinter import messagebox as msgbox\n",
    "from selenium import webdriver\n",
    "from selenium.webdriver.common.keys import Keys"
   ]
  },
  {
   "cell_type": "code",
   "execution_count": null,
   "metadata": {},
   "outputs": [],
   "source": [
    "navegador = webdriver.Chrome()\n",
    "whats_url = \"https://web.whatsapp.com\""
   ]
  },
  {
   "cell_type": "code",
   "execution_count": null,
   "metadata": {},
   "outputs": [],
   "source": [
    "janela = tk()\n",
    "janela.withdraw()\n",
    "imagem = fd.askopenfilename(title = \"Selecione a Imagem!\").replace(\"/\", \"\\\\\")\n",
    "arquivo_clientes = fd.askopenfilename(title = \"Selecione o Excel com as informações dos clientes!\")"
   ]
  },
  {
   "cell_type": "code",
   "execution_count": null,
   "metadata": {},
   "outputs": [],
   "source": [
    "clientes_df = pd.read_excel(arquivo_clientes)"
   ]
  },
  {
   "cell_type": "code",
   "execution_count": null,
   "metadata": {},
   "outputs": [],
   "source": [
    "navegador.get(whats_url)\n",
    "while len(navegador.find_elements_by_id(\"side\")) < 1:\n",
    "    time.sleep(1)\n",
    "\n",
    "for index, linha in clientes_df.iterrows():\n",
    "    texto = urllib.parse.quote(f\"Olá {linha['Nome']}!\\n{linha['Mensagem']}\")   \n",
    "    navegador.get(f\"{whats_url}/send?phone={linha['Número']}&text={texto}\")\n",
    "\n",
    "    while len(navegador.find_elements_by_id(\"side\")) < 1:\n",
    "        time.sleep(1)\n",
    "\n",
    "    navegador.find_element_by_xpath('//*[@id=\"main\"]/footer/div[1]/div[1]/div[2]/div/div/span').click()\n",
    "    navegador.find_element_by_xpath('//*[@id=\"main\"]/footer/div[1]/div[1]/div[2]/div/span/div[1]/div/ul/li[1]/button/input').send_keys(imagem)\n",
    "    time.sleep(2)\n",
    "\n",
    "    navegador.find_element_by_xpath('//*[@id=\"app\"]/div[1]/div[1]/div[2]/div[2]/span/div[1]/span/div[1]/div/div[2]/span/div/div/span').click()\n",
    "    time.sleep(30)"
   ]
  },
  {
   "cell_type": "code",
   "execution_count": null,
   "metadata": {},
   "outputs": [],
   "source": [
    "navegador.close()\n",
    "msgbox.showinfo(\"Programa Executado.\", \"As promoções foram compartilhadas!\")\n",
    "janela.destroy()"
   ]
  }
 ]
}