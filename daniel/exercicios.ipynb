{
 "metadata": {
  "language_info": {
   "codemirror_mode": {
    "name": "ipython",
    "version": 3
   },
   "file_extension": ".py",
   "mimetype": "text/x-python",
   "name": "python",
   "nbconvert_exporter": "python",
   "pygments_lexer": "ipython3",
   "version": "3.8.5"
  },
  "orig_nbformat": 2,
  "kernelspec": {
   "name": "python385jvsc74a57bd0c6c8430e89a15a4f705a576eccecf88c53706536bbd7637c0db045d1215ec196",
   "display_name": "Python 3.8.5 64-bit (conda)"
  }
 },
 "nbformat": 4,
 "nbformat_minor": 2,
 "cells": [
  {
   "cell_type": "code",
   "execution_count": null,
   "metadata": {},
   "outputs": [],
   "source": [
    "pesos = (3, 5, 2)\n",
    "alunos = {}\n",
    "notas = []\n",
    "\n",
    "for i in range(10):\n",
    "    nome = input(f\"Digite o nome do {i + 1}° aluno: \")\n",
    "\n",
    "    for j in range(3):\n",
    "        notas.append(float(input(f\"Informe a {j + 1}° nota: \")))\n",
    "\n",
    "    total = sum([ notas[n] * pesos[n] for n in range(3) ])\n",
    "    alunos[nome] = total / sum(pesos)\n",
    "\n",
    "for i in range(5):\n",
    "    nome = input(\"Informe qual aluno deseja visualizar a média: \")\n",
    "    \n",
    "    if nome not in alunos.keys():\n",
    "        print(f\"O aluno {nome} não foi encontrado!\")\n",
    "    else:\n",
    "        print(f\"A média do aluno {nome} é {alunos[nome]}\")"
   ]
  },
  {
   "cell_type": "code",
   "execution_count": null,
   "metadata": {},
   "outputs": [],
   "source": [
    "from math import sqrt\n",
    "lista = [4, 9, 16, 25, 36, 49, 64, 81, 100, 121, 144, 169, 196]\n",
    "\n",
    "nova_lista = [ int(sqrt(n)) for n in lista ]\n",
    "\n",
    "print(f\"A média da raiz quadrada da lista é {sum(nova_lista) / len(nova_lista)}\")"
   ]
  },
  {
   "cell_type": "code",
   "execution_count": null,
   "metadata": {},
   "outputs": [],
   "source": [
    "lancamentos = (1, 1, 2, 6, 6, 6, 4, 1, 3, 3, 1, 2, 2, 6, 5, 5, 1, 3, 5, 4, 2, 1, 3, 2, 1, 1, 2, 3, 3, 3, 4, 4, 5, 6, 2, 4, 2, 3, 1, 2, 4, 5, 2, 6, 4, 1, 3, 2, 2, 4)\n",
    "\n",
    "for i in range(1, 7):\n",
    "    dado[str(i)] = f\"{int(lancamentos.count(i) / len(lancamentos) * 100)}%\"\n",
    "\n",
    "print(dado)"
   ]
  }
 ]
}